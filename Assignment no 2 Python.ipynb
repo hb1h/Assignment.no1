{
 "cells": [
  {
   "cell_type": "code",
   "execution_count": 6,
   "metadata": {},
   "outputs": [
    {
     "name": "stdout",
     "output_type": "stream",
     "text": [
      "Enter Marks in English :\t50\n",
      "Enter Marks in Maths: \t60\n",
      "Enter Marks in Physics: \t40\n",
      "Enter Marks in Chemistry: \t30\n",
      "Enter Marks in Computer Science: \t45\n",
      "Congratulations ! You have secured C Grade, and your percentage is  45.0\n"
     ]
    }
   ],
   "source": [
    "a=float(input(\"Enter Marks in English :\\t\"))\n",
    "b=float(input(\"Enter Marks in Maths: \\t\"))\n",
    "c=float(input(\"Enter Marks in Physics: \\t\"))\n",
    "d=float(input(\"Enter Marks in Chemistry: \\t\"))\n",
    "e=float(input(\"Enter Marks in Computer Science: \\t\"))\n",
    "avg=((a+b+c+d+e)/500)*100\n",
    "if(avg>=80):\n",
    "    \n",
    "\tprint(\"Congratulations ! You have secured A Grade, and your percentage is \", avg)\n",
    "elif(avg>=60 and avg<80):\n",
    "\tprint(\"Congratulations ! You have secured B Grade, and your percentage is \", avg )\n",
    "elif (avg>=40 and avg<60):\n",
    "\tprint(\"Congratulations ! You have secured C Grade, and your percentage is \", avg)\n",
    "elif (avg<40):\n",
    "\tprint( \"You are fail\")"
   ]
  },
  {
   "cell_type": "code",
   "execution_count": null,
   "metadata": {},
   "outputs": [],
   "source": []
  },
  {
   "cell_type": "code",
   "execution_count": 7,
   "metadata": {},
   "outputs": [
    {
     "name": "stdout",
     "output_type": "stream",
     "text": [
      "Enter a Random Number: 78\n",
      "Number is even\n"
     ]
    }
   ],
   "source": [
    "number=int(input(\"Enter a Random Number: \"))\n",
    "if(number%2 == 0):\n",
    "    print(\"Number is even\")\n",
    "else:\n",
    "    print(\"Number is odd\")"
   ]
  },
  {
   "cell_type": "code",
   "execution_count": 8,
   "metadata": {},
   "outputs": [
    {
     "name": "stdout",
     "output_type": "stream",
     "text": [
      "Length of list is 7\n"
     ]
    }
   ],
   "source": [
    "my_list=[\"Habib\",\"Fahad\",98,2,\"Shah Abdul Latif University Khairpur \",45,\"University\"]\n",
    "print(\"Length of list is\",len(my_list))"
   ]
  },
  {
   "cell_type": "code",
   "execution_count": 3,
   "metadata": {},
   "outputs": [
    {
     "name": "stdout",
     "output_type": "stream",
     "text": [
      "How Many Numbers You Want to Enter: 5\n",
      "Enter Number: 4\n",
      "Enter Number: 4\n",
      "Enter Number: 8\n",
      "Enter Number: 9\n",
      "Enter Number: 4\n",
      "Largest Number is  9\n"
     ]
    }
   ],
   "source": [
    "num=int(input(\"How Many Numbers You Want to Enter: \"))\n",
    "my_list = []\n",
    "for n in range(num):\n",
    "    number = int(input(\"Enter Number: \"))\n",
    "    my_list.append(number)\n",
    "max_num = my_list[0]\n",
    "for n in my_list:\n",
    "    if(max_num < n):\n",
    "        max_num = n\n",
    "print(\"Largest Number is \",max_num)"
   ]
  },
  {
   "cell_type": "code",
   "execution_count": 2,
   "metadata": {},
   "outputs": [
    {
     "name": "stdout",
     "output_type": "stream",
     "text": [
      "1\n",
      "1\n",
      "2\n",
      "3\n"
     ]
    }
   ],
   "source": [
    "a=[1,1,2,3,5,8,13,21,34,55,89]\n",
    "for n in a:\n",
    "    if(n < 5):\n",
    "        print(n)"
   ]
  },
  {
   "cell_type": "code",
   "execution_count": null,
   "metadata": {},
   "outputs": [],
   "source": []
  }
 ],
 "metadata": {
  "kernelspec": {
   "display_name": "Python 3",
   "language": "python",
   "name": "python3"
  },
  "language_info": {
   "codemirror_mode": {
    "name": "ipython",
    "version": 3
   },
   "file_extension": ".py",
   "mimetype": "text/x-python",
   "name": "python",
   "nbconvert_exporter": "python",
   "pygments_lexer": "ipython3",
   "version": "3.7.4"
  }
 },
 "nbformat": 4,
 "nbformat_minor": 2
}
