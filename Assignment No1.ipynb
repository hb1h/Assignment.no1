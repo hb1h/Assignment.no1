{
 "cells": [
  {
   "cell_type": "code",
   "execution_count": 6,
   "metadata": {},
   "outputs": [
    {
     "name": "stdout",
     "output_type": "stream",
     "text": [
      "Twinkle,Twinkle,little star,\n",
      "\tHow I wonder what you are!\n",
      "\t\tUp ubove the World so high\n",
      "\t\tLike and Dimond in the sky \n",
      "Twinkle,Twinkle,little star,\n",
      "\tHow I wonder what you are!\n"
     ]
    }
   ],
   "source": [
    "#Q.1 \n",
    "print(\"Twinkle,Twinkle,little star,\\n\\tHow I wonder what you are!\\n\\t\\tUp ubove the World so high\\n\\t\\tLike and Dimond in the sky \\nTwinkle,Twinkle,little star,\\n\\tHow I wonder what you are!\")\n",
    "\n"
   ]
  },
  {
   "cell_type": "code",
   "execution_count": 8,
   "metadata": {},
   "outputs": [
    {
     "name": "stdout",
     "output_type": "stream",
     "text": [
      "We are using python version : 3.7.4\n"
     ]
    }
   ],
   "source": [
    "#Q.2 Print python version\n",
    "import platform\n",
    "print(\"We are using python version : \"+platform.python_version())"
   ]
  },
  {
   "cell_type": "code",
   "execution_count": 30,
   "metadata": {},
   "outputs": [
    {
     "name": "stdout",
     "output_type": "stream",
     "text": [
      "Current date and Time is :2019-11-01 23:21:51\n"
     ]
    }
   ],
   "source": [
    "#Q.3 print current Date and time\n",
    "\n",
    "import datetime\n",
    "\n",
    "now=datetime.datetime.now()\n",
    "print(\"Current date and Time is :\" +now.strftime(\"%Y-%m-%d %H:%M:%S\"))\n"
   ]
  },
  {
   "cell_type": "code",
   "execution_count": 5,
   "metadata": {},
   "outputs": [
    {
     "name": "stdout",
     "output_type": "stream",
     "text": [
      "Enter the radius of circle:34\n",
      "The area of circle with radius:\t34.0is:3631.681107549801\n"
     ]
    }
   ],
   "source": [
    "#Q.4 Find radis of circle with user input\n",
    "\n",
    "from math import pi\n",
    "r=float(input(\"Enter the radius of circle:\"))\n",
    "print(\"The area of circle with radius:\\t\"+str(r)+\"is:\"+str(pi*r**2))"
   ]
  },
  {
   "cell_type": "code",
   "execution_count": 2,
   "metadata": {},
   "outputs": [
    {
     "name": "stdout",
     "output_type": "stream",
     "text": [
      "Write your First Name:Habibullah\n",
      "Write your Last Name:Palh\n",
      "My Name is:\tPalh Habibullah\n"
     ]
    }
   ],
   "source": [
    "#Q.5 Print reverse name\n",
    "\n",
    "fname=input(\"Write your First Name:\")\n",
    "lname=input(\"Write your Last Name:\")\n",
    "\n",
    "print(\"My Name is:\\t\"+lname+\" \"+fname)"
   ]
  },
  {
   "cell_type": "code",
   "execution_count": 17,
   "metadata": {},
   "outputs": [
    {
     "name": "stdout",
     "output_type": "stream",
     "text": [
      "Enter First number:6\n",
      "Enter second number:8\n",
      "The sum of 6 and 8 is 14\n"
     ]
    }
   ],
   "source": [
    "#Q.6 User input  Addition of two number\n",
    "\n",
    "num1=input(\"Enter First number:\")\n",
    "num2=input(\"Enter second number:\")\n",
    "\n",
    "sum=int(num1)+int(num2)\n",
    "\n",
    "print('The sum of {0} and {1} is {2}'.format(num1,num2,sum))"
   ]
  },
  {
   "cell_type": "code",
   "execution_count": null,
   "metadata": {},
   "outputs": [],
   "source": []
  },
  {
   "cell_type": "code",
   "execution_count": null,
   "metadata": {},
   "outputs": [],
   "source": []
  }
 ],
 "metadata": {
  "kernelspec": {
   "display_name": "Python 3",
   "language": "python",
   "name": "python3"
  },
  "language_info": {
   "codemirror_mode": {
    "name": "ipython",
    "version": 3
   },
   "file_extension": ".py",
   "mimetype": "text/x-python",
   "name": "python",
   "nbconvert_exporter": "python",
   "pygments_lexer": "ipython3",
   "version": "3.7.4"
  }
 },
 "nbformat": 4,
 "nbformat_minor": 2
}
